{
 "cells": [
  {
   "cell_type": "markdown",
   "metadata": {},
   "source": [
    "### Write a function that takes a list of lists of strings and displays it in a well-organized table with each column right-justified. Assume that all the inner list will contain the same number of strings."
   ]
  },
  {
   "cell_type": "code",
   "execution_count": 1,
   "metadata": {},
   "outputs": [],
   "source": [
    "def printTable(InputList):\n",
    "    \n",
    "    #------find the max length------\n",
    "    colWidths = [0] * len(InputList)\n",
    "    len_list = []\n",
    "    longest_list = 0\n",
    "    \n",
    "    for i in range(len(InputList)):\n",
    "        for j in range(len(InputList[i])):\n",
    "            #------make it simple-----\n",
    "            if len(InputList[i][j]) > colWidths[i]:\n",
    "                colWidths[i] = len(InputList[i][j])\n",
    "                \n",
    "    #-----print------\n",
    "    for a in range(len(InputList[0])):\n",
    "        for b in range(len(InputList)):\n",
    "            print(InputList[b][a].rjust(colWidths[b]), end = ' ')\n",
    "        print()"
   ]
  },
  {
   "cell_type": "markdown",
   "metadata": {},
   "source": [
    "### Test"
   ]
  },
  {
   "cell_type": "code",
   "execution_count": 2,
   "metadata": {},
   "outputs": [],
   "source": [
    "tableData = [['apples','oranges','cherries','bananas'],\n",
    "            ['Alice','Bob','Carol','David'],\n",
    "            ['dogs','cats','moose','goose']]"
   ]
  },
  {
   "cell_type": "code",
   "execution_count": 3,
   "metadata": {
    "scrolled": true
   },
   "outputs": [
    {
     "name": "stdout",
     "output_type": "stream",
     "text": [
      "  apples Alice  dogs \n",
      " oranges   Bob  cats \n",
      "cherries Carol moose \n",
      " bananas David goose \n"
     ]
    }
   ],
   "source": [
    "printTable(tableData)"
   ]
  },
  {
   "cell_type": "code",
   "execution_count": null,
   "metadata": {},
   "outputs": [],
   "source": []
  }
 ],
 "metadata": {
  "kernelspec": {
   "display_name": "Python 3",
   "language": "python",
   "name": "python3"
  },
  "language_info": {
   "codemirror_mode": {
    "name": "ipython",
    "version": 3
   },
   "file_extension": ".py",
   "mimetype": "text/x-python",
   "name": "python",
   "nbconvert_exporter": "python",
   "pygments_lexer": "ipython3",
   "version": "3.8.1"
  }
 },
 "nbformat": 4,
 "nbformat_minor": 4
}
