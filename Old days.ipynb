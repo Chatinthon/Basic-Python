{
 "cells": [
  {
   "cell_type": "code",
   "execution_count": 1,
   "metadata": {},
   "outputs": [
    {
     "name": "stdout",
     "output_type": "stream",
     "text": [
      "Test case passed!\n",
      "Test case passed!\n",
      "Test case passed!\n",
      "Test case passed!\n",
      "Test case passed!\n"
     ]
    }
   ],
   "source": [
    "def daysBetweenDates(year1, month1, day1, year2, month2, day2):\n",
    "    yy=1\n",
    "    yyn=0\n",
    "    mm = [0,31,59,90,120,151,181,212,243,273,304,334,365]\n",
    "    mon =[0,31,28,31,30,31,30,31,31,30,31,30,31]\n",
    "    days=0\n",
    "    \n",
    "    i = month1\n",
    "    while(i<month2):\n",
    "        days=days+mon[i]\n",
    "        i=i+1\n",
    "    \n",
    "    days=days-day1+day2\n",
    "    \n",
    "    if(year2-year1>1 or (year2>=year1-1 and month2>2)):\n",
    "        days = days+(int)(((year2*1.0)-(year1*1.0))*(365.25))\n",
    "        if(month1<=2 and year1%4==0):\n",
    "            if(year1%100==0):\n",
    "                if(year1%400==0):\n",
    "                    days=days+1\n",
    "            else:\n",
    "               days=days+1\n",
    "        else:\n",
    "            if(month2>2 and year2%4==0):\n",
    "            \n",
    "                if(year2%100==0):\n",
    "                    if(year2%400==0):\n",
    "                        days=days+1\n",
    "                else:\n",
    "                   days=days+1\n",
    "     \n",
    "    return days   \n",
    "\n",
    "\n",
    "# Test routine\n",
    "\n",
    "def test():\n",
    "    test_cases = [((2012,1,1,2012,2,28), 58), \n",
    "                  ((2012,1,1,2012,3,1), 60),\n",
    "                  ((2011,6,30,2012,6,30), 366),\n",
    "                  ((2011,1,1,2012,8,8), 585 ),\n",
    "                  ((1900,1,1,1999,12,31), 36523)]\n",
    "    for (args, answer) in test_cases:\n",
    "        result = daysBetweenDates(*args)\n",
    "        if result != answer:\n",
    "            print (\"Test with data:\", args, \"failed\")\n",
    "        else:\n",
    "            print (\"Test case passed!\")\n",
    "\n",
    "test()"
   ]
  },
  {
   "cell_type": "code",
   "execution_count": null,
   "metadata": {},
   "outputs": [],
   "source": []
  }
 ],
 "metadata": {
  "kernelspec": {
   "display_name": "Python 3",
   "language": "python",
   "name": "python3"
  },
  "language_info": {
   "codemirror_mode": {
    "name": "ipython",
    "version": 3
   },
   "file_extension": ".py",
   "mimetype": "text/x-python",
   "name": "python",
   "nbconvert_exporter": "python",
   "pygments_lexer": "ipython3",
   "version": "3.8.1"
  }
 },
 "nbformat": 4,
 "nbformat_minor": 2
}
