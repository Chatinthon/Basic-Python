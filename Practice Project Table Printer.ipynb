{
 "cells": [
  {
   "cell_type": "markdown",
   "metadata": {},
   "source": [
    "### Write a function that takes a list of lists of strings and displays it in a well-organized table with each column right-justified. Assume that all the inner list will contain the same number of strings."
   ]
  },
  {
   "cell_type": "code",
   "execution_count": 1,
   "metadata": {},
   "outputs": [],
   "source": [
    "def printTable(list_of_list):\n",
    "\n",
    "#-----Looking for the longest string in each column\n",
    "    longest_string_list = []\n",
    "    longest_string = 0\n",
    "    lenght_list_of_list =[]\n",
    "    lenght_list = []\n",
    "    for i in range(len(list_of_list)):\n",
    "        for j in range(len(list_of_list[i])):\n",
    "            lenght_list_of_list = lenght_list_of_list + [len(list_of_list[i][j])]\n",
    "        longest_string = max(lenght_list_of_list)\n",
    "        longest_string_list = longest_string_list + [longest_string]\n",
    "    \n",
    "    #print(longest_string_list)\n",
    "    \n",
    "#-----print the table\n",
    "    for j in range(len(list_of_list[0])):\n",
    "        for i in range(len(list_of_list)):\n",
    "            print(list_of_list[i][j].rjust(longest_string_list[i]) , end = \" \")\n",
    "        print()\n"
   ]
  },
  {
   "cell_type": "markdown",
   "metadata": {},
   "source": [
    "### Test"
   ]
  },
  {
   "cell_type": "code",
   "execution_count": 2,
   "metadata": {},
   "outputs": [],
   "source": [
    "tableData = [['apples','oranges','cherries','bananas'],\n",
    "            ['Alice','Bob','Carol','David'],\n",
    "            ['dogs','cats','moose','goose']]\n",
    "    "
   ]
  },
  {
   "cell_type": "code",
   "execution_count": 3,
   "metadata": {},
   "outputs": [
    {
     "name": "stdout",
     "output_type": "stream",
     "text": [
      "  apples    Alice     dogs \n",
      " oranges      Bob     cats \n",
      "cherries    Carol    moose \n",
      " bananas    David    goose \n"
     ]
    }
   ],
   "source": [
    "printTable(tableData)"
   ]
  },
  {
   "cell_type": "code",
   "execution_count": null,
   "metadata": {},
   "outputs": [],
   "source": []
  }
 ],
 "metadata": {
  "kernelspec": {
   "display_name": "Python 3",
   "language": "python",
   "name": "python3"
  },
  "language_info": {
   "codemirror_mode": {
    "name": "ipython",
    "version": 3
   },
   "file_extension": ".py",
   "mimetype": "text/x-python",
   "name": "python",
   "nbconvert_exporter": "python",
   "pygments_lexer": "ipython3",
   "version": "3.8.1"
  }
 },
 "nbformat": 4,
 "nbformat_minor": 4
}
