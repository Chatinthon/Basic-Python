{
 "cells": [
  {
   "cell_type": "code",
   "execution_count": 124,
   "metadata": {},
   "outputs": [],
   "source": [
    "#Data\n",
    "revenue = [14574.49, 7606.46, 8611.41, 9175.41, 8058.65, 8105.44, 11496.28, 9766.09, 10305.32, 14379.96, 10713.97, 15433.50]\n",
    "expenses = [12051.82, 5695.07, 12319.20, 12089.72, 8658.57, 840.20, 3285.73, 5821.12, 6976.93, 16618.61, 10054.37, 3803.96]"
   ]
  },
  {
   "cell_type": "code",
   "execution_count": 152,
   "metadata": {},
   "outputs": [
    {
     "data": {
      "text/plain": [
       "[14574.49,\n",
       " 7606.46,\n",
       " 8611.41,\n",
       " 9175.41,\n",
       " 8058.65,\n",
       " 8105.44,\n",
       " 11496.28,\n",
       " 9766.09,\n",
       " 10305.32,\n",
       " 14379.96,\n",
       " 10713.97,\n",
       " 15433.5]"
      ]
     },
     "execution_count": 152,
     "metadata": {},
     "output_type": "execute_result"
    }
   ],
   "source": [
    "revenue"
   ]
  },
  {
   "cell_type": "code",
   "execution_count": 126,
   "metadata": {},
   "outputs": [
    {
     "data": {
      "text/plain": [
       "[12051.82,\n",
       " 5695.07,\n",
       " 12319.2,\n",
       " 12089.72,\n",
       " 8658.57,\n",
       " 840.2,\n",
       " 3285.73,\n",
       " 5821.12,\n",
       " 6976.93,\n",
       " 16618.61,\n",
       " 10054.37,\n",
       " 3803.96]"
      ]
     },
     "execution_count": 126,
     "metadata": {},
     "output_type": "execute_result"
    }
   ],
   "source": [
    "expenses"
   ]
  },
  {
   "cell_type": "code",
   "execution_count": 168,
   "metadata": {
    "scrolled": true
   },
   "outputs": [
    {
     "name": "stdout",
     "output_type": "stream",
     "text": [
      "[2522.67, 1911.3900000000003, -3707.790000000001, -2914.3099999999995, -599.9200000000001, 7265.24, 8210.550000000001, 3944.9700000000003, 3328.3899999999994, -2238.6500000000015, 659.5999999999985, 11629.54]\n"
     ]
    }
   ],
   "source": [
    "#profit for each month\n",
    "profit = [0] * len(revenue)\n",
    "for i in range(len(revenue)):\n",
    "    profit[i] = revenue[i] - expenses[i]\n",
    "print(profit)"
   ]
  },
  {
   "cell_type": "code",
   "execution_count": 154,
   "metadata": {},
   "outputs": [
    {
     "name": "stdout",
     "output_type": "stream",
     "text": [
      "[1765.8690000000001, 1337.9730000000004, -2595.4530000000004, -2040.0169999999998, -419.9440000000001, 5085.668, 5747.385, 2761.4790000000003, 2329.8729999999996, -1567.0550000000012, 461.719999999999, 8140.678000000001]\n"
     ]
    }
   ],
   "source": [
    "#profit after tax for each month\n",
    "profit_tax = []\n",
    "for i in range(len(profit)):\n",
    "    profit_tax.append(profit[i] - (profit[i]*0.3))\n",
    "    #profit_tax[i] = round(profit_tax[i],2)\n",
    "print(profit_tax)"
   ]
  },
  {
   "cell_type": "code",
   "execution_count": 196,
   "metadata": {},
   "outputs": [
    {
     "name": "stdout",
     "output_type": "stream",
     "text": [
      "[12.12, 17.59, -30.14, -22.23, -5.21, 62.74, 49.99, 28.28, 22.61, -10.9, 4.31, 52.75]\n"
     ]
    }
   ],
   "source": [
    "#profit margin for each month - equals to profit after tax divided by revenue\n",
    "margin = []\n",
    "for i in range(len(profit_tax)):\n",
    "    margin.append(profit_tax[i]/revenue[i])\n",
    "    margin[i] = round(margin[i]*100,2)\n",
    "print(margin)"
   ]
  },
  {
   "cell_type": "code",
   "execution_count": 73,
   "metadata": {},
   "outputs": [],
   "source": [
    "#good months - where the profit after tax was greater than the mean for the year.\n",
    "import numpy as np"
   ]
  },
  {
   "cell_type": "code",
   "execution_count": 156,
   "metadata": {},
   "outputs": [],
   "source": [
    "ar_profit_tax = np.array(profit_tax)"
   ]
  },
  {
   "cell_type": "code",
   "execution_count": 157,
   "metadata": {},
   "outputs": [],
   "source": [
    "profit_mean = ar_profit_tax.mean()"
   ]
  },
  {
   "cell_type": "code",
   "execution_count": 158,
   "metadata": {},
   "outputs": [
    {
     "data": {
      "text/plain": [
       "1750.6813333333332"
      ]
     },
     "execution_count": 158,
     "metadata": {},
     "output_type": "execute_result"
    }
   ],
   "source": [
    "profit_mean"
   ]
  },
  {
   "cell_type": "code",
   "execution_count": 159,
   "metadata": {},
   "outputs": [
    {
     "name": "stdout",
     "output_type": "stream",
     "text": [
      "['Good', 'Bad', 'Bad', 'Bad', 'Bad', 'Good', 'Good', 'Good', 'Good', 'Bad', 'Bad', 'Good']\n"
     ]
    }
   ],
   "source": [
    "good_month = []\n",
    "for i in range(len(profit_tax)):\n",
    "    if profit_tax[i] > profit_mean:\n",
    "        good_month.append(\"Good\")\n",
    "    else:\n",
    "        good_month.append(\"Bad\")\n",
    "print(good_month)\n",
    "        "
   ]
  },
  {
   "cell_type": "code",
   "execution_count": 160,
   "metadata": {},
   "outputs": [],
   "source": [
    "max_profit = ar_profit_tax.max()"
   ]
  },
  {
   "cell_type": "code",
   "execution_count": 161,
   "metadata": {},
   "outputs": [
    {
     "data": {
      "text/plain": [
       "8140.678000000001"
      ]
     },
     "execution_count": 161,
     "metadata": {},
     "output_type": "execute_result"
    }
   ],
   "source": [
    "max_profit   "
   ]
  },
  {
   "cell_type": "code",
   "execution_count": 162,
   "metadata": {},
   "outputs": [],
   "source": [
    "min_profit =ar_profit_tax.min()"
   ]
  },
  {
   "cell_type": "code",
   "execution_count": 163,
   "metadata": {},
   "outputs": [
    {
     "data": {
      "text/plain": [
       "-2595.4530000000004"
      ]
     },
     "execution_count": 163,
     "metadata": {},
     "output_type": "execute_result"
    }
   ],
   "source": [
    "min_profit"
   ]
  },
  {
   "cell_type": "code",
   "execution_count": 164,
   "metadata": {},
   "outputs": [
    {
     "name": "stdout",
     "output_type": "stream",
     "text": [
      "['No', 'No', 'No', 'No', 'No', 'No', 'No', 'No', 'No', 'No', 'No', 'Best Month']\n",
      "['No', 'No', 'Worst Month', 'No', 'No', 'No', 'No', 'No', 'No', 'No', 'No', 'No']\n"
     ]
    }
   ],
   "source": [
    "best_month = []\n",
    "worst_month = []\n",
    "for i in range(len(profit_tax)):\n",
    "    \n",
    "    if profit_tax[i] >= max_profit:\n",
    "        best_month.append(\"Best Month\")\n",
    "    elif profit_tax[i] < max_profit:\n",
    "        best_month.append(\"No\")\n",
    "        \n",
    "for i in range(len(profit_tax)):\n",
    "    \n",
    "    if profit_tax[i] <= min_profit:\n",
    "        worst_month.append(\"Worst Month\")\n",
    "    else:\n",
    "        worst_month.append(\"No\")\n",
    "        \n",
    "print(best_month)\n",
    "print(worst_month)"
   ]
  },
  {
   "cell_type": "code",
   "execution_count": 193,
   "metadata": {},
   "outputs": [],
   "source": [
    "#Units of 1000\n",
    "\n",
    "profit_1000 = []\n",
    "profit_tax_1000 = []\n",
    "\n",
    "for i in range(len(profit)):\n",
    "    profit_1000.append(round(profit[i]/1000,2))\n",
    "    profit_tax_1000.append(round(profit_tax[i]/1000,2))"
   ]
  },
  {
   "cell_type": "code",
   "execution_count": 197,
   "metadata": {},
   "outputs": [
    {
     "name": "stdout",
     "output_type": "stream",
     "text": [
      "Profit :\n",
      "[2, 1, -3, -2, 0, 7, 8, 3, 3, -2, 0, 11]\n",
      "Profit after tax :\n",
      "[1, 1, -2, -2, 0, 5, 5, 2, 2, -1, 0, 8]\n",
      "Profit Margin :\n",
      "[12.12, 17.59, -30.14, -22.23, -5.21, 62.74, 49.99, 28.28, 22.61, -10.9, 4.31, 52.75]\n",
      "Good and Bad Month :\n",
      "['Good', 'Bad', 'Bad', 'Bad', 'Bad', 'Good', 'Good', 'Good', 'Good', 'Bad', 'Bad', 'Good']\n",
      "Best Month :\n",
      "['No', 'No', 'No', 'No', 'No', 'No', 'No', 'No', 'No', 'No', 'No', 'Best Month']\n",
      "Worst Month :\n",
      "['No', 'No', 'Worst Month', 'No', 'No', 'No', 'No', 'No', 'No', 'No', 'No', 'No']\n"
     ]
    }
   ],
   "source": [
    "for i in range(len(profit_1000)):\n",
    "    profit_1000[i] = int(profit_1000[i])\n",
    "    profit_tax_1000[i] = int(profit_tax_1000[i])\n",
    "    #margin_1000[i] = int(margin_1000[i])                       \n",
    "\n",
    "print(\"Profit :\")\n",
    "print(profit_1000)\n",
    "print(\"Profit after tax :\")\n",
    "print(profit_tax_1000)\n",
    "print(\"Profit Margin :\")\n",
    "print(margin)\n",
    "print(\"Good and Bad Month :\")\n",
    "print(good_month)\n",
    "print(\"Best Month :\")\n",
    "print(best_month)\n",
    "print(\"Worst Month :\")\n",
    "print(worst_month)"
   ]
  },
  {
   "cell_type": "code",
   "execution_count": null,
   "metadata": {},
   "outputs": [],
   "source": []
  }
 ],
 "metadata": {
  "kernelspec": {
   "display_name": "Python 3",
   "language": "python",
   "name": "python3"
  },
  "language_info": {
   "codemirror_mode": {
    "name": "ipython",
    "version": 3
   },
   "file_extension": ".py",
   "mimetype": "text/x-python",
   "name": "python",
   "nbconvert_exporter": "python",
   "pygments_lexer": "ipython3",
   "version": "3.7.4"
  }
 },
 "nbformat": 4,
 "nbformat_minor": 2
}
