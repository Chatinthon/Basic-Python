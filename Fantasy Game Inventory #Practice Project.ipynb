{
 "cells": [
  {
   "cell_type": "code",
   "execution_count": 21,
   "metadata": {},
   "outputs": [],
   "source": [
    "stuff = {\"arrow\" : 12, \"gold coin\" : 42, \"rope\" : 1, \"torch\" : 6, \"dagger\" : 1}"
   ]
  },
  {
   "cell_type": "code",
   "execution_count": 22,
   "metadata": {},
   "outputs": [
    {
     "data": {
      "text/plain": [
       "dict_items([('arrow', 12), ('gold coin', 42), ('rope', 1), ('torch', 6), ('dagger', 1)])"
      ]
     },
     "execution_count": 22,
     "metadata": {},
     "output_type": "execute_result"
    }
   ],
   "source": [
    "stuff.items()"
   ]
  },
  {
   "cell_type": "code",
   "execution_count": 23,
   "metadata": {},
   "outputs": [],
   "source": [
    "def displayInventory(inventory):\n",
    "    sum = 0\n",
    "    print(\"Inventory:\")\n",
    "    for k,v in inventory.items():\n",
    "        print(str(v) + ' ' + k)\n",
    "        sum = sum + v\n",
    "    print(\"Total number of items : \" + str(sum))"
   ]
  },
  {
   "cell_type": "code",
   "execution_count": 24,
   "metadata": {},
   "outputs": [
    {
     "name": "stdout",
     "output_type": "stream",
     "text": [
      "Inventory:\n",
      "12 arrow\n",
      "42 gold coin\n",
      "1 rope\n",
      "6 torch\n",
      "1 dagger\n",
      "Total number of items : 62\n"
     ]
    }
   ],
   "source": [
    "displayInventory(stuff)"
   ]
  },
  {
   "cell_type": "code",
   "execution_count": 45,
   "metadata": {},
   "outputs": [],
   "source": [
    "def addToInventory(inventory, addedItems):\n",
    "    for key in addedItems:\n",
    "        inventory.setdefault(key,0) #important (add dagger)\n",
    "        inventory[key] = inventory[key]+1\n",
    "    print(inventory)"
   ]
  },
  {
   "cell_type": "code",
   "execution_count": 46,
   "metadata": {},
   "outputs": [
    {
     "name": "stdout",
     "output_type": "stream",
     "text": [
      "{'gold coin': 45, 'rope': 1, 'dagger': 1, 'ruby': 1}\n"
     ]
    }
   ],
   "source": [
    "dragonLoot = ['gold coin','dagger','gold coin','gold coin','ruby']\n",
    "inv = {'gold coin' : 42 , \"rope\" : 1}\n",
    "addToInventory(inv,dragonLoot)"
   ]
  },
  {
   "cell_type": "code",
   "execution_count": 47,
   "metadata": {},
   "outputs": [
    {
     "name": "stdout",
     "output_type": "stream",
     "text": [
      "Inventory:\n",
      "45 gold coin\n",
      "1 rope\n",
      "1 dagger\n",
      "1 ruby\n",
      "Total number of items : 48\n"
     ]
    }
   ],
   "source": [
    "displayInventory(inv)"
   ]
  },
  {
   "cell_type": "code",
   "execution_count": null,
   "metadata": {},
   "outputs": [],
   "source": []
  }
 ],
 "metadata": {
  "kernelspec": {
   "display_name": "Python 3",
   "language": "python",
   "name": "python3"
  },
  "language_info": {
   "codemirror_mode": {
    "name": "ipython",
    "version": 3
   },
   "file_extension": ".py",
   "mimetype": "text/x-python",
   "name": "python",
   "nbconvert_exporter": "python",
   "pygments_lexer": "ipython3",
   "version": "3.8.1"
  }
 },
 "nbformat": 4,
 "nbformat_minor": 4
}
